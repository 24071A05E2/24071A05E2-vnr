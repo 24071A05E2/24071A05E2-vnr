{
  "cells": [
    {
      "cell_type": "markdown",
      "metadata": {
        "id": "view-in-github",
        "colab_type": "text"
      },
      "source": [
        "<a href=\"https://colab.research.google.com/github/24071A05E2/24071A05E2-vnr/blob/main/Session_1.ipynb\" target=\"_parent\"><img src=\"https://colab.research.google.com/assets/colab-badge.svg\" alt=\"Open In Colab\"/></a>"
      ]
    },
    {
      "cell_type": "code",
      "source": [
        "#program to check if a nuber is prime\n",
        "n=int(input())\n",
        "i=1\n",
        "count=0\n",
        "while(i<=n):\n",
        "    if(n%i==0):\n",
        "        count+=1\n",
        "    i+=1\n",
        "if(count==2):\n",
        "    print(\"Prime\")\n",
        "else:\n",
        "    print(\"Not Prime\")"
      ],
      "metadata": {
        "id": "rr7UDalYq8Yl",
        "outputId": "78fb85d5-dfbb-4d5c-8868-1f62e813e2a4",
        "colab": {
          "base_uri": "https://localhost:8080/"
        }
      },
      "execution_count": null,
      "outputs": [
        {
          "output_type": "stream",
          "name": "stdout",
          "text": [
            "5\n",
            "Prime\n"
          ]
        }
      ]
    },
    {
      "cell_type": "code",
      "source": [
        "#Fibonacci generator\n",
        "def fib(x):\n",
        "  if(x==0 or x==1):\n",
        "    return x\n",
        "  else:\n",
        "    return fib(x-1)+fib(x-2)\n",
        "n=int(input())\n",
        "for i in range(0,n,1):\n",
        "  print(fib(i))"
      ],
      "metadata": {
        "id": "TC3TjRHuqbde",
        "outputId": "06db20e7-84ba-43a4-c661-c956eafb4f1e",
        "colab": {
          "base_uri": "https://localhost:8080/"
        }
      },
      "execution_count": null,
      "outputs": [
        {
          "output_type": "stream",
          "name": "stdout",
          "text": [
            "3\n",
            "0\n",
            "1\n",
            "1\n"
          ]
        }
      ]
    },
    {
      "cell_type": "code",
      "source": [
        "#GCD and LCM\n",
        "def GCD(x,y):\n",
        "  if(x>=y):\n",
        "    max=x\n",
        "  else:\n",
        "    max=y\n",
        "  for i in range(1,max+1,1):\n",
        "    if(x%i==0 and y%i==0):\n",
        "      gcd=i\n",
        "  return gcd\n",
        "a=int(input())\n",
        "b=int(input())\n",
        "print(\"GCD is:\")\n",
        "print(GCD(a,b))\n",
        "print(\"LCM is\")\n",
        "print((a*b)/GCD(a,b))"
      ],
      "metadata": {
        "id": "uSp0sw4Iss9b",
        "outputId": "fed58b35-82a4-4e3d-e317-7fbd5d63e364",
        "colab": {
          "base_uri": "https://localhost:8080/"
        }
      },
      "execution_count": null,
      "outputs": [
        {
          "output_type": "stream",
          "name": "stdout",
          "text": [
            "4\n",
            "5\n",
            "GCD is:\n",
            "1\n",
            "LCM is\n",
            "20.0\n"
          ]
        }
      ]
    },
    {
      "cell_type": "code",
      "source": [
        "#simple calculator\n",
        "a=int(input())\n",
        "b=int(input())\n",
        "print(\"1.Addition\")\n",
        "print(\"2.Subtraction\")\n",
        "print(\"3.Multiplication\")\n",
        "print(\"4.Division\")\n",
        "print(\"Enter your choice\")\n",
        "c=int(input())\n",
        "def calculate(x,y):\n",
        "  if(c==1):\n",
        "    return x+y\n",
        "  elif(c==2):\n",
        "    return x-y\n",
        "  elif(c==3):\n",
        "    return x*y\n",
        "  elif(c==4):\n",
        "    if(y==0):\n",
        "      return -1\n",
        "    else:\n",
        "      return x/y\n",
        "  else:\n",
        "    return -1\n",
        "print(calculate(a,b))"
      ],
      "metadata": {
        "id": "P5oyRz-Fub5g",
        "outputId": "cf22bfff-619a-44a4-af0e-f77fe8cecb8b",
        "colab": {
          "base_uri": "https://localhost:8080/"
        }
      },
      "execution_count": null,
      "outputs": [
        {
          "output_type": "stream",
          "name": "stdout",
          "text": [
            "5\n",
            "3\n",
            "1.Addition\n",
            "2.Subtraction\n",
            "3.Multiplication\n",
            "4.Division\n",
            "Enter your choice\n",
            "3\n",
            "15\n"
          ]
        }
      ]
    },
    {
      "cell_type": "code",
      "source": [
        "x=[1,2,3,3,4,5,5]\n",
        "print(list(set(x)))\n"
      ],
      "metadata": {
        "id": "1RjMAVNuvkAA",
        "outputId": "ec0837ea-9536-4eed-a417-538e9a22765a",
        "colab": {
          "base_uri": "https://localhost:8080/"
        }
      },
      "execution_count": null,
      "outputs": [
        {
          "output_type": "stream",
          "name": "stdout",
          "text": [
            "[1, 2, 3, 4, 5]\n"
          ]
        }
      ]
    },
    {
      "cell_type": "code",
      "source": [
        "#dictionary\n",
        "x={'A':1,'B':2,'C':3,'D':4,'E':5}\n",
        "print(x)\n",
        "print(x.keys())\n",
        "print(x.values())"
      ],
      "metadata": {
        "id": "hpRfVbsHwLiK",
        "outputId": "f4ff3ec3-9892-442b-a07a-df0169362bbd",
        "colab": {
          "base_uri": "https://localhost:8080/"
        }
      },
      "execution_count": null,
      "outputs": [
        {
          "output_type": "stream",
          "name": "stdout",
          "text": [
            "{'A': 1, 'B': 2, 'C': 3, 'D': 4, 'E': 5}\n",
            "dict_keys(['A', 'B', 'C', 'D', 'E'])\n",
            "dict_values([1, 2, 3, 4, 5])\n"
          ]
        }
      ]
    },
    {
      "cell_type": "code",
      "source": [
        "#Use NumPy to perform basic matrix operations\n",
        "import numpy as np\n",
        "A=np.array([[1,2],[9,8]])\n",
        "B=np.array([[3,4],[7,6]])\n",
        "print(\"Matrix A:\",A)\n",
        "print(\"Matrix B:\",B)\n",
        "print(\"Adiition of Matrices:\",A+B)\n",
        "print(\"Subtraction of Matrices:\",A-B)"
      ],
      "metadata": {
        "id": "Eod879To1V5G",
        "outputId": "faba46de-d5b9-4af2-f225-f36aea65a850",
        "colab": {
          "base_uri": "https://localhost:8080/"
        }
      },
      "execution_count": null,
      "outputs": [
        {
          "output_type": "stream",
          "name": "stdout",
          "text": [
            "Matrix A: [[1 2]\n",
            " [9 8]]\n",
            "Matrix B: [[3 4]\n",
            " [7 6]]\n",
            "Adiition of Matrices: [[ 4  6]\n",
            " [16 14]]\n",
            "Subtraction of Matrices: [[-2 -2]\n",
            " [ 2  2]]\n"
          ]
        }
      ]
    }
  ],
  "metadata": {
    "colab": {
      "provenance": [],
      "toc_visible": true,
      "include_colab_link": true
    },
    "kernelspec": {
      "display_name": "Python 3",
      "name": "python3"
    }
  },
  "nbformat": 4,
  "nbformat_minor": 0
}