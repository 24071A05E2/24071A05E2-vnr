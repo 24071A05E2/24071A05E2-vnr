{
 "cells": [
  {
   "cell_type": "code",
   "execution_count": 3,
   "metadata": {
    "colab": {
     "base_uri": "https://localhost:8080/"
    },
    "id": "zwFnJsE6vjf8",
    "outputId": "a3737f70-5103-4107-da49-f9df0479ba39"
   },
   "outputs": [
    {
     "name": "stdout",
     "output_type": "stream",
     "text": [
      "Array= [10 20 30 40 50]\n"
     ]
    }
   ],
   "source": [
    "import numpy as np\n",
    "list=[10,20,30,40,50]\n",
    "arr=np.array(list)\n",
    "print(\"Array=\",arr)"
   ]
  },
  {
   "cell_type": "code",
   "execution_count": 6,
   "metadata": {
    "colab": {
     "base_uri": "https://localhost:8080/"
    },
    "id": "DT4aqvU7rYHC",
    "outputId": "7bfa1a7a-f293-4286-e955-1a5893a7ed99"
   },
   "outputs": [
    {
     "name": "stdout",
     "output_type": "stream",
     "text": [
      "Matrix A is: [[0. 0.]\n",
      " [0. 0.]]\n",
      "Matrix B is: [[1. 1. 1.]]\n"
     ]
    }
   ],
   "source": [
    "import numpy as np\n",
    "A=np.zeros((2,2))\n",
    "B=np.ones((1,3))\n",
    "print(\"Matrix A is:\",A)\n",
    "print(\"Matrix B is:\",B)"
   ]
  },
  {
   "cell_type": "code",
   "execution_count": 8,
   "metadata": {
    "colab": {
     "base_uri": "https://localhost:8080/"
    },
    "id": "PD0FkgTHswym",
    "outputId": "dee75ee0-0978-4652-844e-6fb9ad8691cb"
   },
   "outputs": [
    {
     "name": "stdout",
     "output_type": "stream",
     "text": [
      "Max of a is: 5\n",
      "Min of a is: 1\n",
      "Mean of a is: 3.0\n"
     ]
    }
   ],
   "source": [
    "import numpy as np\n",
    "a=np.array([1,2,3,4,5])\n",
    "print(\"Max of a is:\",a.max())\n",
    "print(\"Min of a is:\",a.min())\n",
    "print(\"Mean of a is:\",a.mean())"
   ]
  },
  {
   "cell_type": "code",
   "execution_count": 16,
   "metadata": {
    "colab": {
     "base_uri": "https://localhost:8080/"
    },
    "id": "C-5Sg2kftmnZ",
    "outputId": "5e2eb3e2-9c9c-4d3a-9c37-015c7dd9a0a8"
   },
   "outputs": [
    {
     "name": "stdout",
     "output_type": "stream",
     "text": [
      "Vertically Stacked arrays A and B:\n",
      " [[1 2]\n",
      " [3 4]\n",
      " [5 6]\n",
      " [7 8]]\n",
      "Horizontally Stacked arrays A and B:\n",
      " [[1 2 5 6]\n",
      " [3 4 7 8]]\n"
     ]
    }
   ],
   "source": [
    "import numpy as np\n",
    "A=np.array([[1,2],[3,4]])\n",
    "B=np.array([[5,6],[7,8]])\n",
    "print(\"Vertically Stacked arrays A and B:\\n\",np.vstack((A,B)))\n",
    "print(\"Horizontally Stacked arrays A and B:\\n\",np.hstack((A,B)))"
   ]
  },
  {
   "cell_type": "code",
   "execution_count": 12,
   "metadata": {
    "colab": {
     "base_uri": "https://localhost:8080/"
    },
    "id": "b1uBCpKevZIv",
    "outputId": "d6dc86b0-b24d-4809-8cd4-947b17095d0a"
   },
   "outputs": [
    {
     "name": "stdout",
     "output_type": "stream",
     "text": [
      "Unique elements in the array: [1 2 3 4 5 6 7]\n"
     ]
    }
   ],
   "source": [
    "import numpy as np\n",
    "arr=np.array([1,2,1,4,3,4,5,2,6,7,1])\n",
    "print(\"Unique elements in the array:\",np.unique(arr))"
   ]
  },
  {
   "cell_type": "code",
   "execution_count": 15,
   "metadata": {
    "colab": {
     "base_uri": "https://localhost:8080/"
    },
    "id": "N4UhN3zYwCOu",
    "outputId": "a85d26d6-fd58-4c19-e0d4-81dc1a660350"
   },
   "outputs": [
    {
     "name": "stdout",
     "output_type": "stream",
     "text": [
      "Matrix:\n",
      " [[ 0  2 15 23 19]\n",
      " [11  8 20 20 19]\n",
      " [11  0  4 23 21]\n",
      " [20  5  0 11  7]\n",
      " [ 3 19 21 19  4]]\n"
     ]
    }
   ],
   "source": [
    "import numpy as np\n",
    "A=np.random.randint(0,25,size=(5,5))\n",
    "print(\"Matrix:\\n\",A)"
   ]
  },
  {
   "cell_type": "code",
   "execution_count": 18,
   "metadata": {
    "colab": {
     "base_uri": "https://localhost:8080/"
    },
    "id": "J57ZkIv6xVXj",
    "outputId": "7294ba9e-0709-45db-ec59-62898d8dfc46"
   },
   "outputs": [
    {
     "name": "stdout",
     "output_type": "stream",
     "text": [
      "6\n",
      "8\n"
     ]
    }
   ],
   "source": [
    "import numpy as np\n",
    "A=np.array([[1,2,5],[3,4,6]])\n",
    "B=np.array([[5,6],[7,8]])\n",
    "print(A[1,2])\n",
    "print(B[1,1])"
   ]
  },
  {
   "cell_type": "code",
   "execution_count": 20,
   "metadata": {
    "colab": {
     "base_uri": "https://localhost:8080/"
    },
    "id": "bSYFBgLPyemo",
    "outputId": "9a5f7230-0c3b-4557-95df-d802c3382679"
   },
   "outputs": [
    {
     "name": "stdout",
     "output_type": "stream",
     "text": [
      "DataFrame:\n",
      "   Name  Id  Marks\n",
      "0    A   1     98\n",
      "1    B  14     90\n",
      "2    C  12     89\n"
     ]
    }
   ],
   "source": [
    "import pandas as pd\n",
    "data={\n",
    "    'Name':['A','B','C'],\n",
    "    'Id':[1,14,12],\n",
    "    'Marks':[98,90,89]\n",
    "}\n",
    "print(\"DataFrame:\\n\",pd.DataFrame(data))\n"
   ]
  },
  {
   "cell_type": "code",
   "execution_count": 21,
   "metadata": {
    "colab": {
     "base_uri": "https://localhost:8080/"
    },
    "id": "OvTERz5BCbWp",
    "outputId": "85a5aabb-ef4f-4341-b065-7e4cb847f1a1"
   },
   "outputs": [
    {
     "name": "stdout",
     "output_type": "stream",
     "text": [
      "Concatenated DataFrames:\n",
      "   Name  Id  Marks\n",
      "0    A   1     98\n",
      "1    B   2     90\n",
      "2    C   3     89\n",
      "0    D   4     82\n",
      "1    E   5     93\n",
      "2    F   6     90\n"
     ]
    }
   ],
   "source": [
    "import pandas as pd\n",
    "data1={\n",
    "    'Name':['A','B','C'],\n",
    "    'Id':[1,2,3],\n",
    "    'Marks':[98,90,89]\n",
    "}\n",
    "d1=pd.DataFrame(data1)\n",
    "data2={\n",
    "    'Name':['D','E','F'],\n",
    "    'Id':[4,5,6],\n",
    "    'Marks':[82,93,90]\n",
    "}\n",
    "d2=pd.DataFrame(data2)\n",
    "print(\"Concatenated DataFrames:\\n\",pd.concat([d1,d2],axis=0))"
   ]
  },
  {
   "cell_type": "code",
   "execution_count": 23,
   "metadata": {
    "colab": {
     "base_uri": "https://localhost:8080/"
    },
    "id": "Mt9bmIdaDc4h",
    "outputId": "191aa0cf-172a-4bdd-a7ed-20c7da436b5a"
   },
   "outputs": [
    {
     "name": "stdout",
     "output_type": "stream",
     "text": [
      "Merged DataFrames:\n",
      "    Marks Class1 Class2\n",
      "0     98      A      X\n",
      "1     90      B      Y\n",
      "2     93      C      Z\n"
     ]
    }
   ],
   "source": [
    "import pandas as pd\n",
    "data1={\n",
    "    'Marks':[98,90,93],\n",
    "    'Class1':['A','B','C']\n",
    "}\n",
    "data2={\n",
    "    'Marks':[98,90,93],\n",
    "    'Class2':['X','Y','Z']\n",
    "}\n",
    "d1=pd.DataFrame(data1)\n",
    "d2=pd.DataFrame(data2)\n",
    "print(\"Merged DataFrames:\\n\",pd.merge(d1,d2,on='Marks'))"
   ]
  },
  {
   "cell_type": "code",
   "execution_count": 4,
   "metadata": {
    "colab": {
     "base_uri": "https://localhost:8080/"
    },
    "id": "Oj2HOaJgNHhq",
    "outputId": "14c59f4d-23a7-4a71-f20d-5b6c1128b40d"
   },
   "outputs": [
    {
     "name": "stdout",
     "output_type": "stream",
     "text": [
      "Data with missing values:\n",
      "   NAME  SECTION  TOTAL DAYS   DAYS PRESENT  MARKS RESULT\n",
      "0    A      1.0        50.0             47     95   PASS\n",
      "1    B      2.0         NaN             49     99   PASS\n",
      "2    C      3.0        50.0             50     99   PASS\n",
      "3    D      NaN         NaN             35     93   PASS\n",
      "4    E      5.0         NaN             27     86   PASS\n",
      "Data after filling missing values:\n",
      "   NAME  SECTION  TOTAL DAYS   DAYS PRESENT  MARKS RESULT\n",
      "0    A      1.0        50.0             47     95   PASS\n",
      "1    B      2.0        50.0             49     99   PASS\n",
      "2    C      3.0        50.0             50     99   PASS\n",
      "3    D      NaN        50.0             35     93   PASS\n",
      "4    E      5.0        50.0             27     86   PASS\n"
     ]
    }
   ],
   "source": [
    "import pandas as pd\n",
    "file_path=r'C:\\Users\\user\\Desktop\\data_modified.csv'\n",
    "df=pd.read_csv(file_path)\n",
    "print(\"Data with missing values:\\n\",df.head())\n",
    "df['TOTAL DAYS']=df['TOTAL DAYS'].fillna(50)\n",
    "print(\"Data after filling missing values:\\n\",df.head())"
   ]
  },
  {
   "cell_type": "code",
   "execution_count": 6,
   "metadata": {
    "colab": {
     "base_uri": "https://localhost:8080/"
    },
    "id": "VAf0rDYqOQxL",
    "outputId": "e669da32-6b08-46df-dd7e-68525d50f621"
   },
   "outputs": [
    {
     "name": "stdout",
     "output_type": "stream",
     "text": [
      "Original Data:\n",
      "   NAME  SECTION  TOTAL DAYS   DAYS PRESENT  MARKS RESULT\n",
      "0    A      1.0        50.0             47     95   PASS\n",
      "1    B      2.0         NaN             49     99   PASS\n",
      "2    C      3.0        50.0             50     99   PASS\n",
      "3    D      NaN         NaN             35     93   PASS\n",
      "4    E      5.0         NaN             27     86   PASS\n",
      "Data after removing missing values:\n",
      "   NAME  SECTION  TOTAL DAYS   DAYS PRESENT  MARKS RESULT\n",
      "0    A      1.0        50.0             47     95   PASS\n",
      "2    C      3.0        50.0             50     99   PASS\n"
     ]
    }
   ],
   "source": [
    "import pandas as pd\n",
    "file_path=r'C:\\Users\\user\\Desktop\\data_modified.csv'\n",
    "df=pd.read_csv(file_path)\n",
    "print(\"Original Data:\\n\",df)\n",
    "df=df.dropna()\n",
    "print(\"Data after removing missing values:\\n\",df)"
   ]
  },
  {
   "cell_type": "code",
   "execution_count": 44,
   "metadata": {
    "colab": {
     "base_uri": "https://localhost:8080/"
    },
    "id": "ISvzbUd_OpG1",
    "outputId": "725799d6-7e3a-4620-b599-cc6ebb32b1ae"
   },
   "outputs": [
    {
     "name": "stdout",
     "output_type": "stream",
     "text": [
      "DataFrame exported to Excel file 'output.xlsx'\n"
     ]
    }
   ],
   "source": [
    "import pandas as pd\n",
    "data={\n",
    "    'Name':['A','B','C'],\n",
    "    'Id':[1,2,3],\n",
    "    'Marks':[98,90,89]\n",
    "}\n",
    "df = pd.DataFrame(data)\n",
    "df.to_excel('output.xlsx', index=False)\n",
    "print(\"DataFrame exported to Excel file 'output.xlsx'\")\n"
   ]
  },
  {
   "cell_type": "code",
   "execution_count": 18,
   "metadata": {
    "colab": {
     "base_uri": "https://localhost:8080/"
    },
    "id": "TD_BfdPYPNvk",
    "outputId": "4825cf95-9e31-4f8e-9cc0-47ef741da0a3"
   },
   "outputs": [
    {
     "name": "stdout",
     "output_type": "stream",
     "text": [
      "Original Data:\n",
      "   Name  Id  Marks\n",
      "0    A   1     98\n",
      "1    B   2     90\n",
      "2    C   3     89\n",
      "Filtered Data:\n",
      "   Name  Id  Marks\n",
      "0    A   1     98\n"
     ]
    }
   ],
   "source": [
    "import pandas as pd\n",
    "data={\n",
    "    'Name':['A','B','C'],\n",
    "    'Id':[1,2,3],\n",
    "    'Marks':[98,90,89]\n",
    "}\n",
    "df = pd.DataFrame(data)\n",
    "print(\"Original Data:\\n\",df)\n",
    "print(\"Filtered Data:\\n\",df[df['Marks']>90])"
   ]
  },
  {
   "cell_type": "markdown",
   "metadata": {
    "id": "maAjt6RgRBhc"
   },
   "source": [
    "### **Before Debugging**"
   ]
  },
  {
   "cell_type": "code",
   "execution_count": 47,
   "metadata": {
    "colab": {
     "base_uri": "https://localhost:8080/",
     "height": 106
    },
    "id": "PpEjE8NxQ0VL",
    "outputId": "4e5c0ae5-41bc-4751-f8a4-1be63e86530a"
   },
   "outputs": [
    {
     "ename": "SyntaxError",
     "evalue": "invalid syntax (<ipython-input-47-c62dec7d8889>, line 1)",
     "output_type": "error",
     "traceback": [
      "\u001b[0;36m  File \u001b[0;32m\"<ipython-input-47-c62dec7d8889>\"\u001b[0;36m, line \u001b[0;32m1\u001b[0m\n\u001b[0;31m    Code:\u001b[0m\n\u001b[0m          ^\u001b[0m\n\u001b[0;31mSyntaxError\u001b[0m\u001b[0;31m:\u001b[0m invalid syntax\n"
     ]
    }
   ],
   "source": [
    "Code:\n",
    "\n",
    "import numpy as np\n",
    "import pandas as pd\n",
    "import random\n",
    "\n",
    "def generate_random_number(min_num, max_num):\n",
    "    num = random.randint(min_num, max_num)\n",
    "    print(\"Random number is: \" + num)\n",
    "\n",
    "def calc_average(num_list):\n",
    "    total = sum(num_list)\n",
    "    return total / lenght(num_list)\n",
    "\n",
    "def check_prime(start, end):\n",
    "    prime_list = []\n",
    "    for i in range(start, end):\n",
    "        if i % 2 == 0:\n",
    "            prime_list.append(i)\n",
    "    return prime_list\n",
    "\n",
    "def load_data(filepath):\n",
    "    data = pd.read_csv(filepath)\n",
    "    return data\n",
    "\n",
    "def main():\n",
    "    num_list = [10, 20, 30, \"forty\", 50]\n",
    "    print(\"The average is: \", calc_average(num_list))\n",
    "    print(\"Prime numbers: \", check_prime(1, 10))\n",
    "\n",
    "    file_path = \"data.csv\"\n",
    "    data = load_data(file_path)\n",
    "    print(\"Data loaded: \", data)\n",
    "\n",
    "    random_num = generate_random_number(1, 100)\n",
    "    print(\"Generated Random Number: \", random_num)\n",
    "\n",
    "    try:\n",
    "        print(\"Result of division: \", 10 / 0)\n",
    "    except ZeroDivisionError:\n",
    "        print(\"Can't divide by zero\")\n",
    "\n",
    "    numbers = [x for x in range(100) if x % 3 == 0 and x % 5 == 0]\n",
    "    print(\"Numbers divisible by 3 and 5 are: \", numbers)\n",
    "\n",
    "    undefined_function_call()\n",
    "\n",
    "main()\n"
   ]
  },
  {
   "cell_type": "markdown",
   "metadata": {
    "id": "Djf-ksaHRN_h"
   },
   "source": [
    "**After Debugging**\n",
    "1.Corrected string concatenation issue in generate_random_number.\n",
    "2.Fixed incorrect function name lenght → len in calc_average.\n",
    "3.Handled non-numeric values in calc_average.\n",
    "4.Fixed prime number logic in check_prime.\n",
    "5.Handled missing file errors in load_data.\n",
    "6.Ensured proper function usage when calling generate_random_number.\n",
    "7.Removed the undefined function call to prevent crashes."
   ]
  },
  {
   "cell_type": "code",
   "execution_count": 48,
   "metadata": {
    "colab": {
     "base_uri": "https://localhost:8080/"
    },
    "id": "j7kXnE6hP1vr",
    "outputId": "ad2d8b43-761b-4ffe-f0b4-943b0e1c24b5"
   },
   "outputs": [
    {
     "name": "stdout",
     "output_type": "stream",
     "text": [
      "The average is:  27.5\n",
      "Prime numbers:  [2, 3, 5, 7]\n",
      "Error: File not found.\n",
      "Random number is: 76\n",
      "Generated Random Number:  76\n",
      "Can't divide by zero\n",
      "Numbers divisible by 3 and 5 are:  [0, 15, 30, 45, 60, 75, 90]\n"
     ]
    }
   ],
   "source": [
    "import numpy as np\n",
    "import pandas as pd\n",
    "import random\n",
    "\n",
    "def generate_random_number(min_num, max_num):\n",
    "    num = random.randint(min_num, max_num)\n",
    "    print(\"Random number is: \" + str(num))\n",
    "    return num\n",
    "\n",
    "def calc_average(num_list):\n",
    "    # Ensure all elements are numbers\n",
    "    filtered_list = [x for x in num_list if isinstance(x, (int, float))]\n",
    "    if not filtered_list:\n",
    "        return \"Error: No valid numbers in list\"\n",
    "\n",
    "    total = sum(filtered_list)\n",
    "    return total / len(filtered_list)\n",
    "\n",
    "def check_prime(start, end):\n",
    "    prime_list = []\n",
    "    for num in range(start, end + 1):\n",
    "        if num > 1:\n",
    "            is_prime = True\n",
    "            for i in range(2, int(num ** 0.5) + 1):\n",
    "                if num % i == 0:\n",
    "                    is_prime = False\n",
    "                    break\n",
    "            if is_prime:\n",
    "                prime_list.append(num)\n",
    "    return prime_list\n",
    "\n",
    "def load_data(filepath):\n",
    "    try:\n",
    "        data = pd.read_csv(filepath)\n",
    "        return data\n",
    "    except FileNotFoundError:\n",
    "        print(\"Error: File not found.\")\n",
    "        return None\n",
    "\n",
    "def main():\n",
    "    num_list = [10, 20, 30, \"forty\", 50]\n",
    "    print(\"The average is: \", calc_average(num_list))\n",
    "\n",
    "    print(\"Prime numbers: \", check_prime(1, 10))\n",
    "\n",
    "    file_path = \"data.csv\"\n",
    "    data = load_data(file_path)\n",
    "    if data is not None:\n",
    "        print(\"Data loaded: \", data)\n",
    "\n",
    "    random_num = generate_random_number(1, 100)\n",
    "    print(\"Generated Random Number: \", random_num)\n",
    "\n",
    "    try:\n",
    "        print(\"Result of division: \", 10 / 0)\n",
    "    except ZeroDivisionError:\n",
    "        print(\"Can't divide by zero\")\n",
    "\n",
    "    numbers = [x for x in range(100) if x % 3 == 0 and x % 5 == 0]\n",
    "    print(\"Numbers divisible by 3 and 5 are: \", numbers)\n",
    "\n",
    "    # Removed the undefined function call\n",
    "    # undefined_function_call()\n",
    "\n",
    "main()\n"
   ]
  }
 ],
 "metadata": {
  "colab": {
   "name": "Welcome To Colab",
   "provenance": []
  },
  "kernelspec": {
   "display_name": "Python [conda env:base] *",
   "language": "python",
   "name": "conda-base-py"
  },
  "language_info": {
   "codemirror_mode": {
    "name": "ipython",
    "version": 3
   },
   "file_extension": ".py",
   "mimetype": "text/x-python",
   "name": "python",
   "nbconvert_exporter": "python",
   "pygments_lexer": "ipython3",
   "version": "3.12.7"
  }
 },
 "nbformat": 4,
 "nbformat_minor": 4
}
